{
 "cells": [
  {
   "cell_type": "markdown",
   "metadata": {},
   "source": [
    "# ResNet을 CIFAR10에 적용 (+Data Augmentation)"
   ]
  },
  {
   "cell_type": "code",
   "execution_count": 47,
   "metadata": {},
   "outputs": [],
   "source": [
    "''' 1. Module Import '''\n",
    "import numpy as np\n",
    "import matplotlib.pyplot as plt\n",
    "\n",
    "import torch\n",
    "import torch.nn as nn\n",
    "import torch.nn.functional as F\n",
    "from torchvision import transforms, datasets"
   ]
  },
  {
   "cell_type": "code",
   "execution_count": 48,
   "metadata": {},
   "outputs": [
    {
     "name": "stdout",
     "output_type": "stream",
     "text": [
      "Using PyTorch version: 1.10.2  Device: cuda\n"
     ]
    }
   ],
   "source": [
    "''' 2. 딥러닝 모델을 설계할 때 활용하는 장비 확인 '''\n",
    "if torch.cuda.is_available():\n",
    "    DEVICE = torch.device('cuda')\n",
    "    #DEVICE = torch.device('cpu')\n",
    "else:\n",
    "    DEVICE = torch.device('cpu')\n",
    "print('Using PyTorch version:', torch.__version__, ' Device:', DEVICE)"
   ]
  },
  {
   "cell_type": "code",
   "execution_count": 49,
   "metadata": {},
   "outputs": [],
   "source": [
    "BATCH_SIZE = 32\n",
    "EPOCHS = 10"
   ]
  },
  {
   "cell_type": "code",
   "execution_count": 50,
   "metadata": {},
   "outputs": [
    {
     "data": {
      "text/plain": [
       "'C:\\\\Users\\\\user'"
      ]
     },
     "execution_count": 50,
     "metadata": {},
     "output_type": "execute_result"
    }
   ],
   "source": [
    "import os\n",
    "os.getcwd()"
   ]
  },
  {
   "cell_type": "code",
   "execution_count": 51,
   "metadata": {},
   "outputs": [
    {
     "name": "stdout",
     "output_type": "stream",
     "text": [
      "Downloading https://www.cs.toronto.edu/~kriz/cifar-10-python.tar.gz to /data/CIFAR_10_aug\\cifar-10-python.tar.gz\n"
     ]
    },
    {
     "data": {
      "application/vnd.jupyter.widget-view+json": {
       "model_id": "3ef1006708494dbf8e76e7510fcceff6",
       "version_major": 2,
       "version_minor": 0
      },
      "text/plain": [
       "  0%|          | 0/170498071 [00:00<?, ?it/s]"
      ]
     },
     "metadata": {},
     "output_type": "display_data"
    },
    {
     "name": "stdout",
     "output_type": "stream",
     "text": [
      "Extracting /data/CIFAR_10_aug\\cifar-10-python.tar.gz to /data/CIFAR_10_aug\n"
     ]
    }
   ],
   "source": [
    "''' 3. Data Augmentation이 적용안된 CIFAR10 데이터 다운로드 (Train set, Test set 분리하기) '''\n",
    "import ssl\n",
    "ssl._create_default_https_context = ssl._create_unverified_context\n",
    "\n",
    "train_dataset = datasets.CIFAR10(root=\"/data/CIFAR_10_aug\",\n",
    "                                train=True,\n",
    "                                download=True,\n",
    "                                transform = transforms.Compose([\n",
    "                                transforms.RandomHorizontalFlip(),\n",
    "                                transforms.ToTensor(),\n",
    "                                transforms.Normalize((0.5, 0.5, 0.5), (0.5, 0.5, 0.5))]))\n",
    "\n",
    "test_dataset = datasets.CIFAR10(root=\"/data/CIFAR_10_aug\",\n",
    "                                train=False,\n",
    "                                transform = transforms.Compose([\n",
    "                                transforms.RandomHorizontalFlip(),\n",
    "                                transforms.ToTensor(),\n",
    "                                transforms.Normalize((0.5, 0.5, 0.5), (0.5, 0.5, 0.5))]))\n",
    "\n",
    "\n",
    "train_loader = torch.utils.data.DataLoader(dataset = train_dataset,\n",
    "                                            batch_size = BATCH_SIZE,\n",
    "                                            shuffle = True)\n",
    "\n",
    "test_loader = torch.utils.data.DataLoader(dataset = test_dataset,\n",
    "                                          batch_size = BATCH_SIZE,\n",
    "                                          shuffle = False)\n"
   ]
  },
  {
   "cell_type": "code",
   "execution_count": 52,
   "metadata": {},
   "outputs": [
    {
     "name": "stdout",
     "output_type": "stream",
     "text": [
      "X_train: torch.Size([32, 3, 32, 32]) type: torch.FloatTensor\n",
      "y_train: torch.Size([32]) type: torch.LongTensor\n"
     ]
    }
   ],
   "source": [
    "''' 4. 데이터 확인하기 (1) '''\n",
    "for (X_train, y_train) in train_loader:\n",
    "    print('X_train:', X_train.size(), 'type:', X_train.type())\n",
    "    print('y_train:', y_train.size(), 'type:', y_train.type())\n",
    "    break"
   ]
  },
  {
   "cell_type": "code",
   "execution_count": 53,
   "metadata": {},
   "outputs": [
    {
     "name": "stderr",
     "output_type": "stream",
     "text": [
      "Clipping input data to the valid range for imshow with RGB data ([0..1] for floats or [0..255] for integers).\n",
      "Clipping input data to the valid range for imshow with RGB data ([0..1] for floats or [0..255] for integers).\n",
      "Clipping input data to the valid range for imshow with RGB data ([0..1] for floats or [0..255] for integers).\n",
      "Clipping input data to the valid range for imshow with RGB data ([0..1] for floats or [0..255] for integers).\n",
      "Clipping input data to the valid range for imshow with RGB data ([0..1] for floats or [0..255] for integers).\n",
      "Clipping input data to the valid range for imshow with RGB data ([0..1] for floats or [0..255] for integers).\n",
      "Clipping input data to the valid range for imshow with RGB data ([0..1] for floats or [0..255] for integers).\n",
      "Clipping input data to the valid range for imshow with RGB data ([0..1] for floats or [0..255] for integers).\n",
      "Clipping input data to the valid range for imshow with RGB data ([0..1] for floats or [0..255] for integers).\n",
      "Clipping input data to the valid range for imshow with RGB data ([0..1] for floats or [0..255] for integers).\n"
     ]
    },
    {
     "data": {
      "image/png": "[encoded data removed]",
      "text/plain": [
       "<Figure size 720x72 with 10 Axes>"
      ]
     },
     "metadata": {
      "needs_background": "light"
     },
     "output_type": "display_data"
    }
   ],
   "source": [
    "''' 5. 데이터 확인하기 (2) '''\n",
    "pltsize = 1\n",
    "plt.figure(figsize=(10 * pltsize, pltsize))\n",
    "\n",
    "for i in range(10):\n",
    "    plt.subplot(1, 10, i + 1)\n",
    "    plt.axis('off')\n",
    "    plt.imshow(np.transpose(X_train[i], (1, 2, 0)))\n",
    "    plt.title('Class: ' + str(y_train[i].item()))"
   ]
  },
  {
   "cell_type": "code",
   "execution_count": 54,
   "metadata": {},
   "outputs": [],
   "source": [
    "''' 6. ResNet 모델 설계하기 '''\n",
    "class BasicBlock(nn.Module):\n",
    "    def __init__(self, in_planes, planes, stride = 1):\n",
    "        super(BasicBlock, self).__init__()\n",
    "        self.conv1 = nn.Conv2d(in_planes, planes, kernel_size = 3, stride = stride, padding = 1, bias = False)\n",
    "        self.bn1 = nn.BatchNorm2d(planes)\n",
    "        self.conv2 = nn.Conv2d(planes, planes, kernel_size = 3, stride = 1, padding = 1, bias = False)\n",
    "        self.bn2 = nn.BatchNorm2d(planes)\n",
    "        \n",
    "        self.shortcut = nn.Sequential()\n",
    "        if stride != 1 or in_planes != planes:\n",
    "            self.shortcut = nn.Sequential(\n",
    "                nn.Conv2d(in_planes, planes, kernel_size = 1, stride = stride, bias = False),\n",
    "                nn.BatchNorm2d(planes))\n",
    "    \n",
    "    def forward(self, x):\n",
    "        out = F.relu(self.bn1(self.conv1(x)))\n",
    "        out = self.bn2(self.conv2(out))\n",
    "        out += self.shortcut(x)\n",
    "        out = F.relu(out)\n",
    "        return out\n",
    "    \n",
    "class ResNet(nn.Module):\n",
    "    def __init__(self, num_classes = 10):\n",
    "        super(ResNet, self).__init__()\n",
    "        self.in_planes = 16\n",
    "        \n",
    "        self.conv1 = nn.Conv2d(3, 16, kernel_size = 3, stride = 1, padding = 1, bias = False)\n",
    "        self.bn1 = nn.BatchNorm2d(16)\n",
    "        self.layer1 = self._make_layer(16, 2, stride = 1)\n",
    "        self.layer2 = self._make_layer(32, 2, stride = 2)\n",
    "        self.layer3 = self._make_layer(64, 2, stride = 2)\n",
    "        self.linear = nn.Linear(64, num_classes)\n",
    "        \n",
    "    def _make_layer(self, planes, num_blocks, stride):\n",
    "        strides = [stride] + [1] * (num_blocks  - 1)\n",
    "        layers = []\n",
    "        for stride in strides:\n",
    "            layers.append(BasicBlock(self.in_planes, planes, stride))\n",
    "            self.in_planes = planes\n",
    "        return nn.Sequential(*layers)\n",
    "    \n",
    "    def forward(self, x):\n",
    "        out = F.relu(self.bn1(self.conv1(x)))\n",
    "        out = self.layer1(out)\n",
    "        out = self.layer2(out)\n",
    "        out = self.layer3(out)\n",
    "        out = F.avg_pool2d(out, 8)\n",
    "        out = out.view(out.size(0), -1)\n",
    "        out = self.linear(out)\n",
    "        return out"
   ]
  },
  {
   "cell_type": "code",
   "execution_count": 55,
   "metadata": {},
   "outputs": [
    {
     "name": "stdout",
     "output_type": "stream",
     "text": [
      "ResNet(\n",
      "  (conv1): Conv2d(3, 16, kernel_size=(3, 3), stride=(1, 1), padding=(1, 1), bias=False)\n",
      "  (bn1): BatchNorm2d(16, eps=1e-05, momentum=0.1, affine=True, track_running_stats=True)\n",
      "  (layer1): Sequential(\n",
      "    (0): BasicBlock(\n",
      "      (conv1): Conv2d(16, 16, kernel_size=(3, 3), stride=(1, 1), padding=(1, 1), bias=False)\n",
      "      (bn1): BatchNorm2d(16, eps=1e-05, momentum=0.1, affine=True, track_running_stats=True)\n",
      "      (conv2): Conv2d(16, 16, kernel_size=(3, 3), stride=(1, 1), padding=(1, 1), bias=False)\n",
      "      (bn2): BatchNorm2d(16, eps=1e-05, momentum=0.1, affine=True, track_running_stats=True)\n",
      "      (shortcut): Sequential()\n",
      "    )\n",
      "    (1): BasicBlock(\n",
      "      (conv1): Conv2d(16, 16, kernel_size=(3, 3), stride=(1, 1), padding=(1, 1), bias=False)\n",
      "      (bn1): BatchNorm2d(16, eps=1e-05, momentum=0.1, affine=True, track_running_stats=True)\n",
      "      (conv2): Conv2d(16, 16, kernel_size=(3, 3), stride=(1, 1), padding=(1, 1), bias=False)\n",
      "      (bn2): BatchNorm2d(16, eps=1e-05, momentum=0.1, affine=True, track_running_stats=True)\n",
      "      (shortcut): Sequential()\n",
      "    )\n",
      "  )\n",
      "  (layer2): Sequential(\n",
      "    (0): BasicBlock(\n",
      "      (conv1): Conv2d(16, 32, kernel_size=(3, 3), stride=(2, 2), padding=(1, 1), bias=False)\n",
      "      (bn1): BatchNorm2d(32, eps=1e-05, momentum=0.1, affine=True, track_running_stats=True)\n",
      "      (conv2): Conv2d(32, 32, kernel_size=(3, 3), stride=(1, 1), padding=(1, 1), bias=False)\n",
      "      (bn2): BatchNorm2d(32, eps=1e-05, momentum=0.1, affine=True, track_running_stats=True)\n",
      "      (shortcut): Sequential(\n",
      "        (0): Conv2d(16, 32, kernel_size=(1, 1), stride=(2, 2), bias=False)\n",
      "        (1): BatchNorm2d(32, eps=1e-05, momentum=0.1, affine=True, track_running_stats=True)\n",
      "      )\n",
      "    )\n",
      "    (1): BasicBlock(\n",
      "      (conv1): Conv2d(32, 32, kernel_size=(3, 3), stride=(1, 1), padding=(1, 1), bias=False)\n",
      "      (bn1): BatchNorm2d(32, eps=1e-05, momentum=0.1, affine=True, track_running_stats=True)\n",
      "      (conv2): Conv2d(32, 32, kernel_size=(3, 3), stride=(1, 1), padding=(1, 1), bias=False)\n",
      "      (bn2): BatchNorm2d(32, eps=1e-05, momentum=0.1, affine=True, track_running_stats=True)\n",
      "      (shortcut): Sequential()\n",
      "    )\n",
      "  )\n",
      "  (layer3): Sequential(\n",
      "    (0): BasicBlock(\n",
      "      (conv1): Conv2d(32, 64, kernel_size=(3, 3), stride=(2, 2), padding=(1, 1), bias=False)\n",
      "      (bn1): BatchNorm2d(64, eps=1e-05, momentum=0.1, affine=True, track_running_stats=True)\n",
      "      (conv2): Conv2d(64, 64, kernel_size=(3, 3), stride=(1, 1), padding=(1, 1), bias=False)\n",
      "      (bn2): BatchNorm2d(64, eps=1e-05, momentum=0.1, affine=True, track_running_stats=True)\n",
      "      (shortcut): Sequential(\n",
      "        (0): Conv2d(32, 64, kernel_size=(1, 1), stride=(2, 2), bias=False)\n",
      "        (1): BatchNorm2d(64, eps=1e-05, momentum=0.1, affine=True, track_running_stats=True)\n",
      "      )\n",
      "    )\n",
      "    (1): BasicBlock(\n",
      "      (conv1): Conv2d(64, 64, kernel_size=(3, 3), stride=(1, 1), padding=(1, 1), bias=False)\n",
      "      (bn1): BatchNorm2d(64, eps=1e-05, momentum=0.1, affine=True, track_running_stats=True)\n",
      "      (conv2): Conv2d(64, 64, kernel_size=(3, 3), stride=(1, 1), padding=(1, 1), bias=False)\n",
      "      (bn2): BatchNorm2d(64, eps=1e-05, momentum=0.1, affine=True, track_running_stats=True)\n",
      "      (shortcut): Sequential()\n",
      "    )\n",
      "  )\n",
      "  (linear): Linear(in_features=64, out_features=10, bias=True)\n",
      ")\n"
     ]
    }
   ],
   "source": [
    "''' 7. Optimizer, Objective Function 설정하기 '''\n",
    "model = ResNet().to(DEVICE)\n",
    "optimizer = torch.optim.Adam(model.parameters(), lr = 0.001)\n",
    "criterion = nn.CrossEntropyLoss()\n",
    "\n",
    "print(model)"
   ]
  },
  {
   "cell_type": "code",
   "execution_count": 56,
   "metadata": {},
   "outputs": [],
   "source": [
    "''' 8. ResNet 모델 학습을 진행하며 학습 데이터에 대한 모델 성능을 확인하는 함수 정의 '''\n",
    "def train(model, train_loader, optimizer, log_interval):\n",
    "    model.train()\n",
    "    for batch_idx, (image, label) in enumerate(train_loader):\n",
    "        image = image.to(DEVICE)\n",
    "        label = label.to(DEVICE)\n",
    "        optimizer.zero_grad()\n",
    "        output = model(image)\n",
    "        loss = criterion(output, label)\n",
    "        loss.backward()\n",
    "        optimizer.step()\n",
    "\n",
    "        if batch_idx % log_interval == 0:\n",
    "            print(\"Train Epoch: {} [{}/{} ({:.0f}%)]\\tTrain Loss: {:.6f}\".format(\n",
    "                epoch, batch_idx * len(image), \n",
    "                len(train_loader.dataset), 100. * batch_idx / len(train_loader), \n",
    "                loss.item()))"
   ]
  },
  {
   "cell_type": "code",
   "execution_count": 57,
   "metadata": {},
   "outputs": [],
   "source": [
    "''' 9. 학습되는 과정 속에서 검증 데이터에 대한 모델 성능을 확인하는 함수 정의 '''\n",
    "def evaluate(model, test_loader):\n",
    "    model.eval()\n",
    "    test_loss = 0\n",
    "    correct = 0\n",
    "\n",
    "    with torch.no_grad():\n",
    "        for image, label in test_loader:\n",
    "            image = image.to(DEVICE)\n",
    "            label = label.to(DEVICE)\n",
    "            output = model(image)\n",
    "            test_loss += criterion(output, label).item()\n",
    "            prediction = output.max(1, keepdim = True)[1]\n",
    "            correct += prediction.eq(label.view_as(prediction)).sum().item()\n",
    "    \n",
    "    test_loss /= (len(test_loader.dataset) / BATCH_SIZE)\n",
    "    test_accuracy = 100. * correct / len(test_loader.dataset)\n",
    "    return test_loss, test_accuracy"
   ]
  },
  {
   "cell_type": "code",
   "execution_count": 58,
   "metadata": {},
   "outputs": [],
   "source": [
    "if torch.cuda.is_available():\n",
    "    train_loader = torch.utils.data.DataLoader(dataset = train_dataset,\n",
    "                                               num_workers=12,\n",
    "                                                batch_size = BATCH_SIZE,\n",
    "                                                shuffle = True,\n",
    "                                              persistent_workers=True)"
   ]
  },
  {
   "cell_type": "code",
   "execution_count": 59,
   "metadata": {},
   "outputs": [
    {
     "name": "stdout",
     "output_type": "stream",
     "text": [
      "Train Epoch: 1 [0/50000 (0%)]\tTrain Loss: 2.375783\n",
      "Train Epoch: 1 [6400/50000 (13%)]\tTrain Loss: 1.577080\n",
      "Train Epoch: 1 [12800/50000 (26%)]\tTrain Loss: 1.415611\n",
      "Train Epoch: 1 [19200/50000 (38%)]\tTrain Loss: 1.244581\n",
      "Train Epoch: 1 [25600/50000 (51%)]\tTrain Loss: 1.074662\n",
      "Train Epoch: 1 [32000/50000 (64%)]\tTrain Loss: 1.103550\n",
      "Train Epoch: 1 [38400/50000 (77%)]\tTrain Loss: 1.046086\n",
      "Train Epoch: 1 [44800/50000 (90%)]\tTrain Loss: 1.052262\n",
      "\n",
      "[EPOCH: 1], \tTest Loss: 1.1459, \tTest Accuracy: 59.71 % \n",
      "\n",
      "Train Epoch: 2 [0/50000 (0%)]\tTrain Loss: 1.249682\n",
      "Train Epoch: 2 [6400/50000 (13%)]\tTrain Loss: 0.992358\n",
      "Train Epoch: 2 [12800/50000 (26%)]\tTrain Loss: 0.959552\n",
      "Train Epoch: 2 [19200/50000 (38%)]\tTrain Loss: 0.925903\n",
      "Train Epoch: 2 [25600/50000 (51%)]\tTrain Loss: 0.946968\n",
      "Train Epoch: 2 [32000/50000 (64%)]\tTrain Loss: 0.767863\n",
      "Train Epoch: 2 [38400/50000 (77%)]\tTrain Loss: 0.908959\n",
      "Train Epoch: 2 [44800/50000 (90%)]\tTrain Loss: 0.967269\n",
      "\n",
      "[EPOCH: 2], \tTest Loss: 0.8705, \tTest Accuracy: 68.71 % \n",
      "\n",
      "Train Epoch: 3 [0/50000 (0%)]\tTrain Loss: 0.721311\n",
      "Train Epoch: 3 [6400/50000 (13%)]\tTrain Loss: 0.553771\n",
      "Train Epoch: 3 [12800/50000 (26%)]\tTrain Loss: 0.756277\n",
      "Train Epoch: 3 [19200/50000 (38%)]\tTrain Loss: 1.192115\n",
      "Train Epoch: 3 [25600/50000 (51%)]\tTrain Loss: 1.036830\n",
      "Train Epoch: 3 [32000/50000 (64%)]\tTrain Loss: 0.811563\n",
      "Train Epoch: 3 [38400/50000 (77%)]\tTrain Loss: 0.794020\n",
      "Train Epoch: 3 [44800/50000 (90%)]\tTrain Loss: 1.031651\n",
      "\n",
      "[EPOCH: 3], \tTest Loss: 0.7139, \tTest Accuracy: 75.29 % \n",
      "\n",
      "Train Epoch: 4 [0/50000 (0%)]\tTrain Loss: 0.805653\n",
      "Train Epoch: 4 [6400/50000 (13%)]\tTrain Loss: 0.810308\n",
      "Train Epoch: 4 [12800/50000 (26%)]\tTrain Loss: 0.831160\n",
      "Train Epoch: 4 [19200/50000 (38%)]\tTrain Loss: 0.518331\n",
      "Train Epoch: 4 [25600/50000 (51%)]\tTrain Loss: 0.523798\n",
      "Train Epoch: 4 [32000/50000 (64%)]\tTrain Loss: 0.635827\n",
      "Train Epoch: 4 [38400/50000 (77%)]\tTrain Loss: 0.805438\n",
      "Train Epoch: 4 [44800/50000 (90%)]\tTrain Loss: 0.652951\n",
      "\n",
      "[EPOCH: 4], \tTest Loss: 0.7040, \tTest Accuracy: 75.88 % \n",
      "\n",
      "Train Epoch: 5 [0/50000 (0%)]\tTrain Loss: 0.559149\n",
      "Train Epoch: 5 [6400/50000 (13%)]\tTrain Loss: 0.806146\n",
      "Train Epoch: 5 [12800/50000 (26%)]\tTrain Loss: 0.633359\n",
      "Train Epoch: 5 [19200/50000 (38%)]\tTrain Loss: 0.325948\n",
      "Train Epoch: 5 [25600/50000 (51%)]\tTrain Loss: 0.775264\n",
      "Train Epoch: 5 [32000/50000 (64%)]\tTrain Loss: 0.525104\n",
      "Train Epoch: 5 [38400/50000 (77%)]\tTrain Loss: 0.622073\n",
      "Train Epoch: 5 [44800/50000 (90%)]\tTrain Loss: 0.617489\n",
      "\n",
      "[EPOCH: 5], \tTest Loss: 0.6263, \tTest Accuracy: 78.34 % \n",
      "\n",
      "Train Epoch: 6 [0/50000 (0%)]\tTrain Loss: 0.428448\n",
      "Train Epoch: 6 [6400/50000 (13%)]\tTrain Loss: 0.553639\n",
      "Train Epoch: 6 [12800/50000 (26%)]\tTrain Loss: 0.394477\n",
      "Train Epoch: 6 [19200/50000 (38%)]\tTrain Loss: 0.891473\n",
      "Train Epoch: 6 [25600/50000 (51%)]\tTrain Loss: 0.645812\n",
      "Train Epoch: 6 [32000/50000 (64%)]\tTrain Loss: 0.563165\n",
      "Train Epoch: 6 [38400/50000 (77%)]\tTrain Loss: 0.624266\n",
      "Train Epoch: 6 [44800/50000 (90%)]\tTrain Loss: 0.590849\n",
      "\n",
      "[EPOCH: 6], \tTest Loss: 0.6051, \tTest Accuracy: 78.85 % \n",
      "\n",
      "Train Epoch: 7 [0/50000 (0%)]\tTrain Loss: 0.379355\n",
      "Train Epoch: 7 [6400/50000 (13%)]\tTrain Loss: 0.738220\n",
      "Train Epoch: 7 [12800/50000 (26%)]\tTrain Loss: 0.539427\n",
      "Train Epoch: 7 [19200/50000 (38%)]\tTrain Loss: 0.560678\n",
      "Train Epoch: 7 [25600/50000 (51%)]\tTrain Loss: 0.383518\n",
      "Train Epoch: 7 [32000/50000 (64%)]\tTrain Loss: 0.867388\n",
      "Train Epoch: 7 [38400/50000 (77%)]\tTrain Loss: 0.469057\n",
      "Train Epoch: 7 [44800/50000 (90%)]\tTrain Loss: 0.379102\n",
      "\n",
      "[EPOCH: 7], \tTest Loss: 0.5866, \tTest Accuracy: 79.77 % \n",
      "\n",
      "Train Epoch: 8 [0/50000 (0%)]\tTrain Loss: 0.375096\n",
      "Train Epoch: 8 [6400/50000 (13%)]\tTrain Loss: 0.586015\n",
      "Train Epoch: 8 [12800/50000 (26%)]\tTrain Loss: 0.646989\n",
      "Train Epoch: 8 [19200/50000 (38%)]\tTrain Loss: 0.390076\n",
      "Train Epoch: 8 [25600/50000 (51%)]\tTrain Loss: 0.211149\n",
      "Train Epoch: 8 [32000/50000 (64%)]\tTrain Loss: 0.277123\n",
      "Train Epoch: 8 [38400/50000 (77%)]\tTrain Loss: 0.281147\n",
      "Train Epoch: 8 [44800/50000 (90%)]\tTrain Loss: 0.337207\n",
      "\n",
      "[EPOCH: 8], \tTest Loss: 0.5958, \tTest Accuracy: 79.80 % \n",
      "\n",
      "Train Epoch: 9 [0/50000 (0%)]\tTrain Loss: 0.487012\n",
      "Train Epoch: 9 [6400/50000 (13%)]\tTrain Loss: 0.292464\n",
      "Train Epoch: 9 [12800/50000 (26%)]\tTrain Loss: 0.190243\n",
      "Train Epoch: 9 [19200/50000 (38%)]\tTrain Loss: 0.384199\n",
      "Train Epoch: 9 [25600/50000 (51%)]\tTrain Loss: 0.356241\n",
      "Train Epoch: 9 [32000/50000 (64%)]\tTrain Loss: 0.487103\n",
      "Train Epoch: 9 [38400/50000 (77%)]\tTrain Loss: 0.656355\n",
      "Train Epoch: 9 [44800/50000 (90%)]\tTrain Loss: 0.659466\n",
      "\n",
      "[EPOCH: 9], \tTest Loss: 0.5421, \tTest Accuracy: 81.70 % \n",
      "\n",
      "Train Epoch: 10 [0/50000 (0%)]\tTrain Loss: 0.453867\n",
      "Train Epoch: 10 [6400/50000 (13%)]\tTrain Loss: 0.606783\n",
      "Train Epoch: 10 [12800/50000 (26%)]\tTrain Loss: 0.419393\n",
      "Train Epoch: 10 [19200/50000 (38%)]\tTrain Loss: 0.400866\n",
      "Train Epoch: 10 [25600/50000 (51%)]\tTrain Loss: 0.165366\n",
      "Train Epoch: 10 [32000/50000 (64%)]\tTrain Loss: 0.451395\n",
      "Train Epoch: 10 [38400/50000 (77%)]\tTrain Loss: 0.339658\n",
      "Train Epoch: 10 [44800/50000 (90%)]\tTrain Loss: 0.340345\n",
      "\n",
      "[EPOCH: 10], \tTest Loss: 0.5271, \tTest Accuracy: 82.27 % \n",
      "\n",
      "CPU times: total: 3min 21s\n",
      "Wall time: 3min 19s\n"
     ]
    }
   ],
   "source": [
    "%%time\n",
    "for epoch in range(1, EPOCHS + 1):\n",
    "    train(model, train_loader, optimizer, log_interval = 200)\n",
    "    test_loss, test_accuracy = evaluate(model, test_loader)\n",
    "    print(\"\\n[EPOCH: {}], \\tTest Loss: {:.4f}, \\tTest Accuracy: {:.2f} % \\n\".format(\n",
    "        epoch, test_loss, test_accuracy))"
   ]
  },
  {
   "cell_type": "code",
   "execution_count": null,
   "metadata": {},
   "outputs": [],
   "source": []
  }
 ],
 "metadata": {
  "kernelspec": {
   "display_name": "practice",
   "language": "python",
   "name": "practice"
  },
  "language_info": {
   "codemirror_mode": {
    "name": "ipython",
    "version": 3
   },
   "file_extension": ".py",
   "mimetype": "text/x-python",
   "name": "python",
   "nbconvert_exporter": "python",
   "pygments_lexer": "ipython3",
   "version": "3.8.13"
  }
 },
 "nbformat": 4,
 "nbformat_minor": 4
}
